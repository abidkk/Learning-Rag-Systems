{
 "cells": [
  {
   "cell_type": "markdown",
   "metadata": {},
   "source": [
    "# HTML Loader"
   ]
  },
  {
   "cell_type": "markdown",
   "metadata": {},
   "source": []
  },
  {
   "cell_type": "code",
   "execution_count": 7,
   "metadata": {},
   "outputs": [
    {
     "data": {
      "text/plain": [
       "[Document(metadata={'source': '../docs/demo.html'}, page_content='Welcome to My Stylish HTML Page\\n\\nExplore the beautifully styled elements below. This page showcases headings, paragraphs, tables, lists, and images.\\n\\nHeadings\\n\\nSubheading 1\\n\\nSubheading 2\\n\\nSubheading 3\\n\\nParagraphs\\n\\nLorem ipsum dolor sit amet, consectetur adipiscing elit. Suspendisse euismod, risus non tincidunt interdum, risus lectus gravida nisl, nec efficitur augue risus ac lacus.\\n\\nAnother paragraph with some bold text and italic text.\\n\\nTables\\n\\nName Age Country Ali 24 Pakistan Sara 22 India John 28 USA\\n\\nLists\\n\\nOrdered List\\n\\nItem One\\n\\nItem Two\\n\\nItem Three\\n\\nUnordered List\\n\\nItem A\\n\\nItem B\\n\\nItem C\\n\\nImages')]"
      ]
     },
     "execution_count": 7,
     "metadata": {},
     "output_type": "execute_result"
    }
   ],
   "source": [
    "from langchain_community.document_loaders import UnstructuredHTMLLoader\n",
    "loader = UnstructuredHTMLLoader(\"../docs/demo.html\")\n",
    "data = loader.load()\n",
    "data"
   ]
  },
  {
   "cell_type": "markdown",
   "metadata": {},
   "source": [
    "# Metadata"
   ]
  },
  {
   "cell_type": "code",
   "execution_count": 8,
   "metadata": {},
   "outputs": [
    {
     "name": "stdout",
     "output_type": "stream",
     "text": [
      "{'source': '../docs/demo.html'}\n"
     ]
    }
   ],
   "source": [
    "print(data[0].metadata)"
   ]
  },
  {
   "cell_type": "markdown",
   "metadata": {},
   "source": [
    "# Page Content"
   ]
  },
  {
   "cell_type": "code",
   "execution_count": 9,
   "metadata": {},
   "outputs": [
    {
     "name": "stdout",
     "output_type": "stream",
     "text": [
      "Welcome to My Stylish HTML Page\n",
      "\n",
      "Explore the beautifully styled elements below. This page showcases headings, paragraphs, tables, lists, and images.\n",
      "\n",
      "Headings\n",
      "\n",
      "Subheading 1\n",
      "\n",
      "Subheading 2\n",
      "\n",
      "Subheading 3\n",
      "\n",
      "Paragraphs\n",
      "\n",
      "Lorem ipsum dolor sit amet, consectetur adipiscing elit. Suspendisse euismod, risus non tincidunt interdum, risus lectus gravida nisl, nec efficitur augue risus ac lacus.\n",
      "\n",
      "Another paragraph with some bold text and italic text.\n",
      "\n",
      "Tables\n",
      "\n",
      "Name Age Country Ali 24 Pakistan Sara 22 India John 28 USA\n",
      "\n",
      "Lists\n",
      "\n",
      "Ordered List\n",
      "\n",
      "Item One\n",
      "\n",
      "Item Two\n",
      "\n",
      "Item Three\n",
      "\n",
      "Unordered List\n",
      "\n",
      "Item A\n",
      "\n",
      "Item B\n",
      "\n",
      "Item C\n",
      "\n",
      "Images\n"
     ]
    }
   ],
   "source": [
    "print(data[0].page_content)"
   ]
  },
  {
   "cell_type": "code",
   "execution_count": null,
   "metadata": {},
   "outputs": [],
   "source": []
  },
  {
   "cell_type": "markdown",
   "metadata": {},
   "source": [
    "# LOAD HTML USINH BEAUTIFULSOUP"
   ]
  },
  {
   "cell_type": "code",
   "execution_count": 10,
   "metadata": {},
   "outputs": [
    {
     "name": "stdout",
     "output_type": "stream",
     "text": [
      "[Document(metadata={'source': '../docs/demo.html', 'title': 'Stylish HTML Page'}, page_content='\\n\\n\\n\\nStylish HTML Page\\n\\n\\n\\n\\n\\nWelcome to My Stylish HTML Page\\nExplore the beautifully styled elements below. This page showcases headings, paragraphs, tables, lists, and images.\\n\\n\\nHeadings\\nSubheading 1\\nSubheading 2\\nSubheading 3\\n\\n\\nParagraphs\\nLorem ipsum dolor sit amet, consectetur adipiscing elit. Suspendisse euismod, risus non tincidunt interdum, risus lectus gravida nisl, nec efficitur augue risus ac lacus.\\nAnother paragraph with some bold text and italic text.\\n\\n\\nTables\\n\\n\\n\\nName\\nAge\\nCountry\\n\\n\\n\\n\\nAli\\n24\\nPakistan\\n\\n\\nSara\\n22\\nIndia\\n\\n\\nJohn\\n28\\nUSA\\n\\n\\n\\n\\n\\nLists\\nOrdered List\\n\\nItem One\\nItem Two\\nItem Three\\n\\nUnordered List\\n\\nItem A\\nItem B\\nItem C\\n\\n\\n\\nImages\\n\\nA sample placeholder image.\\n\\n\\n\\n\\n')]\n"
     ]
    }
   ],
   "source": [
    "from langchain_community.document_loaders import BSHTMLLoader\n",
    "loader = BSHTMLLoader(\"../docs/demo.html\")\n",
    "data = loader.load()\n",
    "print(data)"
   ]
  },
  {
   "cell_type": "markdown",
   "metadata": {},
   "source": [
    "# Metadata"
   ]
  },
  {
   "cell_type": "code",
   "execution_count": 11,
   "metadata": {},
   "outputs": [
    {
     "name": "stdout",
     "output_type": "stream",
     "text": [
      "{'source': '../docs/demo.html', 'title': 'Stylish HTML Page'}\n",
      "Stylish HTML Page\n"
     ]
    }
   ],
   "source": [
    "print(data[0].metadata)\n",
    "print(data[0].metadata['title'])"
   ]
  },
  {
   "cell_type": "markdown",
   "metadata": {},
   "source": [
    "# Page Content"
   ]
  },
  {
   "cell_type": "code",
   "execution_count": 12,
   "metadata": {},
   "outputs": [
    {
     "name": "stdout",
     "output_type": "stream",
     "text": [
      "\n",
      "\n",
      "\n",
      "\n",
      "Stylish HTML Page\n",
      "\n",
      "\n",
      "\n",
      "\n",
      "\n",
      "Welcome to My Stylish HTML Page\n",
      "Explore the beautifully styled elements below. This page showcases headings, paragraphs, tables, lists, and images.\n",
      "\n",
      "\n",
      "Headings\n",
      "Subheading 1\n",
      "Subheading 2\n",
      "Subheading 3\n",
      "\n",
      "\n",
      "Paragraphs\n",
      "Lorem ipsum dolor sit amet, consectetur adipiscing elit. Suspendisse euismod, risus non tincidunt interdum, risus lectus gravida nisl, nec efficitur augue risus ac lacus.\n",
      "Another paragraph with some bold text and italic text.\n",
      "\n",
      "\n",
      "Tables\n",
      "\n",
      "\n",
      "\n",
      "Name\n",
      "Age\n",
      "Country\n",
      "\n",
      "\n",
      "\n",
      "\n",
      "Ali\n",
      "24\n",
      "Pakistan\n",
      "\n",
      "\n",
      "Sara\n",
      "22\n",
      "India\n",
      "\n",
      "\n",
      "John\n",
      "28\n",
      "USA\n",
      "\n",
      "\n",
      "\n",
      "\n",
      "\n",
      "Lists\n",
      "Ordered List\n",
      "\n",
      "Item One\n",
      "Item Two\n",
      "Item Three\n",
      "\n",
      "Unordered List\n",
      "\n",
      "Item A\n",
      "Item B\n",
      "Item C\n",
      "\n",
      "\n",
      "\n",
      "Images\n",
      "\n",
      "A sample placeholder image.\n",
      "\n",
      "\n",
      "\n",
      "\n",
      "\n"
     ]
    }
   ],
   "source": [
    "print(data[0].page_content)"
   ]
  },
  {
   "cell_type": "code",
   "execution_count": null,
   "metadata": {},
   "outputs": [],
   "source": []
  }
 ],
 "metadata": {
  "kernelspec": {
   "display_name": "rag",
   "language": "python",
   "name": "python3"
  },
  "language_info": {
   "codemirror_mode": {
    "name": "ipython",
    "version": 3
   },
   "file_extension": ".py",
   "mimetype": "text/x-python",
   "name": "python",
   "nbconvert_exporter": "python",
   "pygments_lexer": "ipython3",
   "version": "3.12.7"
  }
 },
 "nbformat": 4,
 "nbformat_minor": 2
}
