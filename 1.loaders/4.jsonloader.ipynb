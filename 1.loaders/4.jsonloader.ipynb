{
 "cells": [
  {
   "cell_type": "markdown",
   "metadata": {},
   "source": [
    "# JSON Loader"
   ]
  },
  {
   "cell_type": "code",
   "execution_count": 1,
   "metadata": {},
   "outputs": [
    {
     "name": "stdout",
     "output_type": "stream",
     "text": [
      "[{'id': 1, 'year': 2010, 'title': 'The Compound Effect', 'description': \"Jumpstart your income, your life, and your success with Darren Hardy's simple yet effective strategies.\"}, {'id': 2, 'year': 2012, 'title': 'Atomic Habits', 'description': 'James Clear reveals how tiny changes lead to remarkable results, providing tools to build good habits and break bad ones.'}, {'id': 3, 'year': 2006, 'title': 'The Secret', 'description': 'Rhonda Byrne explores the law of attraction and its power to transform lives with positive thinking.'}, {'id': 4, 'year': 2014, 'title': 'Deep Work', 'description': 'Cal Newport explains how focusing on cognitively demanding tasks produces better results in less time.'}, {'id': 5, 'year': 2009, 'title': 'Drive', 'description': 'Daniel H. Pink explores the surprising truth about what motivates us and how intrinsic motivation leads to success.'}]\n"
     ]
    }
   ],
   "source": [
    "from langchain_community.document_loaders import JSONLoader\n",
    "import json\n",
    "from pathlib import Path\n",
    "from pprint import pprint\n",
    "\n",
    "\n",
    "file_path='../docs/data.json'\n",
    "data = json.loads(Path(file_path).read_text())\n",
    "print(data)"
   ]
  },
  {
   "cell_type": "markdown",
   "metadata": {},
   "source": [
    "# print object"
   ]
  },
  {
   "cell_type": "code",
   "execution_count": 2,
   "metadata": {},
   "outputs": [
    {
     "name": "stdout",
     "output_type": "stream",
     "text": [
      "{'id': 1, 'year': 2010, 'title': 'The Compound Effect', 'description': \"Jumpstart your income, your life, and your success with Darren Hardy's simple yet effective strategies.\"}\n",
      "The Compound Effect\n"
     ]
    }
   ],
   "source": [
    "print(data[0])\n",
    "print(data[0][\"title\"])\n"
   ]
  },
  {
   "cell_type": "code",
   "execution_count": 3,
   "metadata": {},
   "outputs": [
    {
     "name": "stdout",
     "output_type": "stream",
     "text": [
      "{'id': 3, 'year': 2006, 'title': 'The Secret', 'description': 'Rhonda Byrne explores the law of attraction and its power to transform lives with positive thinking.'}\n",
      "The Secret\n",
      "Rhonda Byrne explores the law of attraction and its power to transform lives with positive thinking.\n"
     ]
    }
   ],
   "source": [
    "print(data[2])\n",
    "print(data[2][\"title\"])\n",
    "print(data[2][\"description\"])"
   ]
  }
 ],
 "metadata": {
  "kernelspec": {
   "display_name": "rag",
   "language": "python",
   "name": "python3"
  },
  "language_info": {
   "codemirror_mode": {
    "name": "ipython",
    "version": 3
   },
   "file_extension": ".py",
   "mimetype": "text/x-python",
   "name": "python",
   "nbconvert_exporter": "python",
   "pygments_lexer": "ipython3",
   "version": "3.12.7"
  }
 },
 "nbformat": 4,
 "nbformat_minor": 2
}
