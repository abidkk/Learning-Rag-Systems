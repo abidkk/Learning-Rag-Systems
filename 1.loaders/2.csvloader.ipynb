{
 "cells": [
  {
   "cell_type": "markdown",
   "metadata": {},
   "source": [
    "# CSV Loader"
   ]
  },
  {
   "cell_type": "code",
   "execution_count": 2,
   "metadata": {},
   "outputs": [],
   "source": [
    "from langchain_community.document_loaders.csv_loader import CSVLoader\n",
    "\n",
    "loader = CSVLoader(file_path='../docs/students_set.csv', csv_args={\n",
    "    'delimiter': ',',\n",
    "    'quotechar': '\"',\n",
    "    'fieldnames': ['MLB Team', 'Payroll in millions', 'Wins']\n",
    "})\n",
    "data = loader.load()"
   ]
  },
  {
   "cell_type": "code",
   "execution_count": 3,
   "metadata": {},
   "outputs": [
    {
     "data": {
      "text/plain": [
       "[Document(metadata={'source': '../docs/students_set.csv', 'row': 0}, page_content='MLB Team: Roll\\nPayroll in millions: Student_Name\\nWins: Age\\nNone: Gender,Level,City'),\n",
       " Document(metadata={'source': '../docs/students_set.csv', 'row': 1}, page_content='MLB Team: 1\\nPayroll in millions: John\\nWins: 22\\nNone: Male,Undergraduate,Karachi'),\n",
       " Document(metadata={'source': '../docs/students_set.csv', 'row': 2}, page_content='MLB Team: 2\\nPayroll in millions: Adam\\nWins: 23\\nNone: Male,Graduate,Lahore'),\n",
       " Document(metadata={'source': '../docs/students_set.csv', 'row': 3}, page_content='MLB Team: 3\\nPayroll in millions: Sara\\nWins: 25\\nNone: Female,Graduate,Islamabad'),\n",
       " Document(metadata={'source': '../docs/students_set.csv', 'row': 4}, page_content='MLB Team: 4\\nPayroll in millions: Alex\\nWins: 30\\nNone: Male,Post-Graduate,Karachi'),\n",
       " Document(metadata={'source': '../docs/students_set.csv', 'row': 5}, page_content='MLB Team: 5\\nPayroll in millions: Neha\\nWins: 20\\nNone: Female,High-School,Lahore'),\n",
       " Document(metadata={'source': '../docs/students_set.csv', 'row': 6}, page_content='MLB Team: 6\\nPayroll in millions: Soha\\nWins: 28\\nNone: Female,Post-Graduate,Karachi'),\n",
       " Document(metadata={'source': '../docs/students_set.csv', 'row': 7}, page_content='MLB Team: 7\\nPayroll in millions: Zara\\nWins: 25\\nNone: Female,Graduate,Karachi'),\n",
       " Document(metadata={'source': '../docs/students_set.csv', 'row': 8}, page_content='MLB Team: 8\\nPayroll in millions: Feroz\\nWins: 31\\nNone: Male,Post-Graduate,Lahore'),\n",
       " Document(metadata={'source': '../docs/students_set.csv', 'row': 9}, page_content='MLB Team: 9\\nPayroll in millions: Saad\\nWins: 22\\nNone: Male,Undergraduate,Islamabad'),\n",
       " Document(metadata={'source': '../docs/students_set.csv', 'row': 10}, page_content='MLB Team: 10\\nPayroll in millions: Baber\\nWins: 28\\nNone: Male,Post-Graduate,Hyderabad')]"
      ]
     },
     "execution_count": 3,
     "metadata": {},
     "output_type": "execute_result"
    }
   ],
   "source": [
    "data"
   ]
  },
  {
   "cell_type": "markdown",
   "metadata": {},
   "source": [
    "# Print Row 1"
   ]
  },
  {
   "cell_type": "code",
   "execution_count": 4,
   "metadata": {},
   "outputs": [
    {
     "name": "stdout",
     "output_type": "stream",
     "text": [
      "page_content='MLB Team: Roll\n",
      "Payroll in millions: Student_Name\n",
      "Wins: Age\n",
      "None: Gender,Level,City' metadata={'source': '../docs/students_set.csv', 'row': 0}\n",
      "\n",
      " --- \n",
      "\n",
      "page_content='MLB Team: 1\n",
      "Payroll in millions: John\n",
      "Wins: 22\n",
      "None: Male,Undergraduate,Karachi' metadata={'source': '../docs/students_set.csv', 'row': 1}\n"
     ]
    }
   ],
   "source": [
    "print(data[0])\n",
    "print(\"\\n --- \\n\")\n",
    "print(data[1])"
   ]
  },
  {
   "cell_type": "markdown",
   "metadata": {},
   "source": [
    "# Page Content Row 1"
   ]
  },
  {
   "cell_type": "code",
   "execution_count": 5,
   "metadata": {},
   "outputs": [
    {
     "name": "stdout",
     "output_type": "stream",
     "text": [
      "MLB Team: Roll\n",
      "Payroll in millions: Student_Name\n",
      "Wins: Age\n",
      "None: Gender,Level,City\n",
      "\n",
      " --- \n",
      "\n",
      "MLB Team: 2\n",
      "Payroll in millions: Adam\n",
      "Wins: 23\n",
      "None: Male,Graduate,Lahore\n"
     ]
    }
   ],
   "source": [
    "print(data[0].page_content)\n",
    "print(\"\\n --- \\n\")\n",
    "print(data[2].page_content)"
   ]
  },
  {
   "cell_type": "markdown",
   "metadata": {},
   "source": [
    "# For Loop "
   ]
  },
  {
   "cell_type": "code",
   "execution_count": 6,
   "metadata": {},
   "outputs": [
    {
     "name": "stdout",
     "output_type": "stream",
     "text": [
      "\n",
      "\n",
      "  MLB Team: Roll\n",
      "Payroll in millions: Student_Name\n",
      "Wins: Age\n",
      "None: Gender,Level,City \n",
      "\n",
      "\n",
      "\n",
      "\n",
      "  MLB Team: 1\n",
      "Payroll in millions: John\n",
      "Wins: 22\n",
      "None: Male,Undergraduate,Karachi \n",
      "\n",
      "\n",
      "\n",
      "\n",
      "  MLB Team: 2\n",
      "Payroll in millions: Adam\n",
      "Wins: 23\n",
      "None: Male,Graduate,Lahore \n",
      "\n",
      "\n",
      "\n",
      "\n",
      "  MLB Team: 3\n",
      "Payroll in millions: Sara\n",
      "Wins: 25\n",
      "None: Female,Graduate,Islamabad \n",
      "\n",
      "\n",
      "\n",
      "\n",
      "  MLB Team: 4\n",
      "Payroll in millions: Alex\n",
      "Wins: 30\n",
      "None: Male,Post-Graduate,Karachi \n",
      "\n",
      "\n",
      "\n",
      "\n",
      "  MLB Team: 5\n",
      "Payroll in millions: Neha\n",
      "Wins: 20\n",
      "None: Female,High-School,Lahore \n",
      "\n",
      "\n",
      "\n",
      "\n",
      "  MLB Team: 6\n",
      "Payroll in millions: Soha\n",
      "Wins: 28\n",
      "None: Female,Post-Graduate,Karachi \n",
      "\n",
      "\n",
      "\n",
      "\n",
      "  MLB Team: 7\n",
      "Payroll in millions: Zara\n",
      "Wins: 25\n",
      "None: Female,Graduate,Karachi \n",
      "\n",
      "\n",
      "\n",
      "\n",
      "  MLB Team: 8\n",
      "Payroll in millions: Feroz\n",
      "Wins: 31\n",
      "None: Male,Post-Graduate,Lahore \n",
      "\n",
      "\n",
      "\n",
      "\n",
      "  MLB Team: 9\n",
      "Payroll in millions: Saad\n",
      "Wins: 22\n",
      "None: Male,Undergraduate,Islamabad \n",
      "\n",
      "\n",
      "\n",
      "\n",
      "  MLB Team: 10\n",
      "Payroll in millions: Baber\n",
      "Wins: 28\n",
      "None: Male,Post-Graduate,Hyderabad \n",
      "\n",
      "\n"
     ]
    }
   ],
   "source": [
    "for info in data:\n",
    "    print(\"\\n\\n \", info.page_content, \"\\n\\n\")"
   ]
  }
 ],
 "metadata": {
  "kernelspec": {
   "display_name": "rag",
   "language": "python",
   "name": "python3"
  },
  "language_info": {
   "codemirror_mode": {
    "name": "ipython",
    "version": 3
   },
   "file_extension": ".py",
   "mimetype": "text/x-python",
   "name": "python",
   "nbconvert_exporter": "python",
   "pygments_lexer": "ipython3",
   "version": "3.12.7"
  }
 },
 "nbformat": 4,
 "nbformat_minor": 2
}
