{
 "cells": [
  {
   "cell_type": "markdown",
   "metadata": {},
   "source": [
    "# Character Spliter\n",
    "\n",
    " - Chunking\n",
    "    - Chunk Size\n",
    "    - Chunk overlap\n",
    "    - separator\n",
    "    "
   ]
  },
  {
   "cell_type": "code",
   "execution_count": 29,
   "metadata": {},
   "outputs": [
    {
     "name": "stdout",
     "output_type": "stream",
     "text": [
      "Chunk 1:\n",
      "Ancient History of the Region\n",
      "\n",
      "Chunk 2:\n",
      "The land that is now Pakistan has a rich and ancient history, with its roots extending back to\n",
      "\n",
      "Chunk 3:\n",
      "one of the earliest human civilizations. The Indus Valley Civilization, which flourished\n",
      "\n",
      "Chunk 4:\n",
      "around 2500 BCE, is one of the oldest urban cultures in the world. This region has always\n",
      "\n",
      "Chunk 5:\n",
      "been a melting pot of cultures due to its strategic location connecting South Asia, Central \n",
      "Asia, and the Middle East.\n",
      "\n"
     ]
    }
   ],
   "source": [
    "from langchain_community.document_loaders import PyPDFLoader\n",
    "from langchain.text_splitter import CharacterTextSplitter\n",
    "\n",
    "# Load PDF\n",
    "loader = PyPDFLoader(\"docs/brief-pak-history.pdf\")\n",
    "pages = loader.load_and_split()\n",
    "\n",
    "# Combine content from all pages into one text string (if needed)\n",
    "full_text = \" \".join([page.page_content for page in pages])\n",
    "\n",
    "# Split text into chunks (e.g., 1000 characters with a 100-character overlap)\n",
    "text_splitter = CharacterTextSplitter(\n",
    "    separator=\"\\n\",\n",
    "    chunk_size=120,\n",
    "    chunk_overlap=100\n",
    ")\n",
    "chunks = text_splitter.split_text(full_text)\n",
    "\n",
    "# Display chunks\n",
    "for i, chunk in enumerate(chunks[:5]):  # Show the first 5 chunks\n",
    "    print(f\"Chunk {i+1}:\\n{chunk}\\n\")\n"
   ]
  },
  {
   "cell_type": "markdown",
   "metadata": {},
   "source": [
    "# Character Splitter"
   ]
  },
  {
   "cell_type": "code",
   "execution_count": 30,
   "metadata": {},
   "outputs": [
    {
     "name": "stdout",
     "output_type": "stream",
     "text": [
      "['abcdefghijklmnopqrstuvwxyzABCDEFGHIJKLMNOP']\n"
     ]
    }
   ],
   "source": [
    "text1 = 'abcdefghijklmnopqrstuvwxyzABCDEFGHIJKLMNOP'\n",
    "c_splitter = CharacterTextSplitter(\n",
    "    separator=\"\\n\",\n",
    "    chunk_size=26,\n",
    "    chunk_overlap=1\n",
    ")\n",
    "chunks = c_splitter.split_text(text1)\n",
    "\n",
    "print(chunks)"
   ]
  },
  {
   "cell_type": "code",
   "execution_count": 33,
   "metadata": {},
   "outputs": [
    {
     "name": "stdout",
     "output_type": "stream",
     "text": [
      "['abcdefghijklmnopqrstuvwxyz', 'zABCDEFGHIJKLMNOP']\n"
     ]
    }
   ],
   "source": [
    "text1 = 'abcdefghijklmnopqrstuvwxyzABCDEFGHIJKLMNOP'\n",
    "c_splitter = CharacterTextSplitter(\n",
    "    separator=\"\",\n",
    "    chunk_size=26,\n",
    "    chunk_overlap=1\n",
    ")\n",
    "chunks = c_splitter.split_text(text1)\n",
    "\n",
    "print(chunks)"
   ]
  },
  {
   "cell_type": "markdown",
   "metadata": {},
   "source": [
    "# Recursive Character Splitter"
   ]
  },
  {
   "cell_type": "code",
   "execution_count": 41,
   "metadata": {},
   "outputs": [
    {
     "name": "stdout",
     "output_type": "stream",
     "text": [
      "['abcdefghijklmnopqrstuvwxyz', 'yzABCDEFGHIJKLMNOP']\n"
     ]
    }
   ],
   "source": [
    "\n",
    "from langchain_text_splitters import RecursiveCharacterTextSplitter\n",
    "text1 = 'abcdefghijklmnopqrstuvwxyzABCDEFGHIJKLMNOP'\n",
    "c_splitter = RecursiveCharacterTextSplitter(\n",
    "    chunk_size=26,\n",
    "    chunk_overlap=2\n",
    ")\n",
    "chunks = c_splitter.split_text(text1)\n",
    "\n",
    "print(chunks)"
   ]
  },
  {
   "cell_type": "code",
   "execution_count": null,
   "metadata": {},
   "outputs": [],
   "source": []
  }
 ],
 "metadata": {
  "kernelspec": {
   "display_name": "rag",
   "language": "python",
   "name": "python3"
  },
  "language_info": {
   "codemirror_mode": {
    "name": "ipython",
    "version": 3
   },
   "file_extension": ".py",
   "mimetype": "text/x-python",
   "name": "python",
   "nbconvert_exporter": "python",
   "pygments_lexer": "ipython3",
   "version": "3.12.7"
  }
 },
 "nbformat": 4,
 "nbformat_minor": 2
}
