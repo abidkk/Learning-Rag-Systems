{
 "cells": [
  {
   "cell_type": "code",
   "execution_count": 4,
   "metadata": {},
   "outputs": [
    {
     "name": "stdout",
     "output_type": "stream",
     "text": [
      "Langchain, Loader\n"
     ]
    }
   ],
   "source": [
    "print(\"Langchain, Loader\")"
   ]
  },
  {
   "cell_type": "code",
   "execution_count": 5,
   "metadata": {},
   "outputs": [],
   "source": [
    "from langchain_community.document_loaders import PyPDFLoader\n",
    "\n",
    "loader = PyPDFLoader(\"docs/brief-pak-history.pdf\")\n",
    "pages = loader.load_and_split()"
   ]
  },
  {
   "cell_type": "code",
   "execution_count": 6,
   "metadata": {},
   "outputs": [
    {
     "name": "stdout",
     "output_type": "stream",
     "text": [
      "[Document(metadata={'source': 'docs/brief-pak-history.pdf', 'page': 0}, page_content='Ancient History of the Region \\nThe land that is now Pakistan has a rich and ancient history, with its roots extending back to \\none of the earliest human civilizations. The Indus Valley Civilization, which flourished \\naround 2500 BCE, is one of the oldest urban cultures in the world. This region has always \\nbeen a melting pot of cultures due to its strategic location connecting South Asia, Central \\nAsia, and the Middle East. \\nKey Highlights: \\n\\uf0b7 Indus Valley Civilization: Cities like Mohenjo-daro and Harappa were known for \\nadvanced urban planning, drainage systems, and trade networks. \\n\\uf0b7 Achaemenid Empire: Around 6th century BCE, the region was part of the Persian \\nEmpire under Darius the Great. \\n\\uf0b7 Alexander the Great: In 326 BCE, Alexander invaded the region, leaving a lasting \\nimpact on its culture. \\nLegacy: \\nThe blend of these early civilizations laid the foundation for the cultural diversity of Pakistan \\ntoday.'), Document(metadata={'source': 'docs/brief-pak-history.pdf', 'page': 1}, page_content='Medieval Period and Islamic Influence \\nThe medieval period brought significant changes to the region, especially with the arrival of \\nIslam. This era saw the establishment of various dynasties and the spread of Islamic culture, \\nart, and science. \\nKey Periods: \\n\\uf0b7 Ghaznavid Empire (977–1186): Mahmud of Ghazni made significant conquests in \\nthe region. \\n\\uf0b7 Delhi Sultanate (1206–1526): Northern Pakistan became part of a larger Islamic \\nempire ruled by sultans. \\n\\uf0b7 Mughal Empire (1526–1857): The Mughals brought political stability, architectural \\nmarvels, and a flourishing of arts. \\nCultural Impact: \\nIslamic scholars, poets, and artists contributed to the rich heritage, while Persian and local \\nlanguages merged to form Urdu.'), Document(metadata={'source': 'docs/brief-pak-history.pdf', 'page': 2}, page_content='Colonial Era under British Rule \\nThe 18th century marked the decline of the Mughal Empire and the rise of British colonial \\nrule. By the mid-19th century, the British East India Company controlled much of the Indian \\nsubcontinent, including present-day Pakistan. \\nMajor Events: \\n1. Battle of Plassey (1757): Established British dominance in South Asia. \\n2. Annexation of Punjab (1849): The region became part of British India after defeating \\nthe Sikh Empire. \\n3. The Great Rebellion (1857): Also known as the Sepoy Mutiny, it marked the first \\norganized resistance against British rule. \\nSocioeconomic Changes: \\n\\uf0b7 Railways, postal systems, and educational institutions were introduced. \\n\\uf0b7 Economic exploitation and cultural suppression fueled nationalist movements.'), Document(metadata={'source': 'docs/brief-pak-history.pdf', 'page': 3}, page_content='Movement for Independence \\nThe struggle for independence from British colonial rule began in earnest during the early \\n20th century, led by prominent leaders like Allama Iqbal and Muhammad Ali Jinnah. \\nKey Milestones: \\n\\uf0b7 Formation of the Muslim League (1906): Advocated for the rights of Muslims. \\n\\uf0b7 Lucknow Pact (1916): Marked unity between Congress and Muslim League. \\n\\uf0b7 Two-Nation Theory: Proposed by Allama Iqbal, emphasized the cultural and \\nreligious distinction of Muslims in India. \\nPartition Plan: \\nThe Lahore Resolution of 1940 called for the establishment of independent states for \\nMuslims. This led to the partition of India and the creation of Pakistan on August 14, 1947. \\nImpact: \\nMillions were displaced during the partition, with large-scale migrations and violence \\nmarking the birth of the nation.'), Document(metadata={'source': 'docs/brief-pak-history.pdf', 'page': 4}, page_content='Pakistan Post-Independence \\nSince its creation, Pakistan has undergone significant political, economic, and social \\ntransformations. The country has faced numerous challenges but continues to progress as a \\nsovereign state. \\nMajor Phases: \\n1. 1947–1958: Early struggles with governance, the adoption of the first constitution in \\n1956, and issues with East Pakistan. \\n2. 1971: The separation of East Pakistan, now Bangladesh. \\n3. 1973 Constitution: Established Pakistan as a federal parliamentary republic. \\nDevelopment Highlights: \\n\\uf0b7 Emergence as a nuclear power in 1998. \\n\\uf0b7 Growth in infrastructure and technology sectors. \\n\\uf0b7 Challenges include political instability, regional conflicts, and economic crises. \\nFuture Prospects: \\nPakistan continues to strive for stability and development while preserving its rich history \\nand culture.')]\n"
     ]
    }
   ],
   "source": [
    "pages\n",
    "print(pages)"
   ]
  },
  {
   "cell_type": "markdown",
   "metadata": {},
   "source": [
    "# Load MetaData"
   ]
  },
  {
   "cell_type": "code",
   "execution_count": 7,
   "metadata": {},
   "outputs": [
    {
     "name": "stdout",
     "output_type": "stream",
     "text": [
      "{'source': 'docs/brief-pak-history.pdf', 'page': 0}\n",
      "{'source': 'docs/brief-pak-history.pdf', 'page': 3}\n",
      "docs/brief-pak-history.pdf\n"
     ]
    }
   ],
   "source": [
    "page = pages\n",
    "print(page[0].metadata) # metadata\n",
    "print(page[3].metadata) # metadata\n",
    "print(page[0].metadata['source']) # source"
   ]
  },
  {
   "cell_type": "markdown",
   "metadata": {},
   "source": [
    "# Loading Page Content"
   ]
  },
  {
   "cell_type": "code",
   "execution_count": 8,
   "metadata": {},
   "outputs": [
    {
     "name": "stdout",
     "output_type": "stream",
     "text": [
      "Ancient History of the Region \n",
      "The land that is now Pakistan has a rich and ancient history, with its roots extending back to \n",
      "one of the earliest human civilizations. The Indus Valley Civilization, which flourished \n",
      "around 2500 BCE, is one of the oldest urban cultures in the world. This region has always \n",
      "been a melting pot of cultures due to its strategic location connecting South Asia, Central \n",
      "Asia, and the Middle East. \n",
      "Key Highlights: \n",
      " Indus Valley Civilization: Cities like Mohenjo-daro and Harappa were known for \n",
      "advanced urban planning, drainage systems, and trade networks. \n",
      " Achaemenid Empire: Around 6th century BCE, the region was part of the Persian \n",
      "Empire under Darius the Great. \n",
      " Alexander the Great: In 326 BCE, Alexander invaded the region, leaving a lasting \n",
      "impact on its culture. \n",
      "Legacy: \n",
      "The blend of these early civilizations laid the foundation for the cultural diversity of Pakistan \n",
      "today.\n",
      "\n",
      "\n",
      "\n",
      " ------ \n",
      "\n",
      "\n",
      "\n",
      "Movement for Independence \n",
      "The struggle for independence from British colonial rule began in earnest during the early \n",
      "20th century, led by prominent leaders like Allama Iqbal and Muhammad Ali Jinnah. \n",
      "Key Milestones: \n",
      " Formation of the Muslim League (1906): Advocated for the rights of Muslims. \n",
      " Lucknow Pact (1916): Marked unity between Congress and Muslim League. \n",
      " Two-Nation Theory: Proposed by Allama Iqbal, emphasized the cultural and \n",
      "religious distinction of Muslims in India. \n",
      "Partition Plan: \n",
      "The Lahore Resolution of 1940 called for the establishment of independent states for \n",
      "Muslims. This led to the partition of India and the creation of Pakistan on August 14, 1947. \n",
      "Impact: \n",
      "Millions were displaced during the partition, with large-scale migrations and violence \n",
      "marking the birth of the nation.\n"
     ]
    }
   ],
   "source": [
    "print(page[0].page_content) # Content\n",
    "print(\"\\n\\n\\n ------ \\n\\n\\n\")\n",
    "print(page[3].page_content) # Content"
   ]
  },
  {
   "cell_type": "markdown",
   "metadata": {},
   "source": [
    "# Limited Page content"
   ]
  },
  {
   "cell_type": "code",
   "execution_count": 9,
   "metadata": {},
   "outputs": [
    {
     "name": "stdout",
     "output_type": "stream",
     "text": [
      "Movement for Independence \n",
      "The struggle for independence from British colonial rule began in earnest\n"
     ]
    }
   ],
   "source": [
    "print(page[3].page_content[0:100]) # Content limit to 100 words "
   ]
  },
  {
   "cell_type": "code",
   "execution_count": 10,
   "metadata": {},
   "outputs": [
    {
     "name": "stdout",
     "output_type": "stream",
     "text": [
      "Medieval Period and Islamic Influence \n",
      "The medieval period brought significant changes to the region, especially with the arrival of \n",
      "Islam. This era saw the establishment of various dynasties and the spread of Islamic culture, \n",
      "art, and science. \n",
      "Key Periods: \n",
      " Ghaznavid Empire (977–1186): Mahmud of Ghazni made significant conquests in \n",
      "the region. \n",
      " Delhi Sultanate (1206–1526): Northern Pakistan became part of a larger Islamic \n",
      "empire ruled by sultans. \n",
      " Mughal Empire (1526–1857): The Mughals brought political stability, architectural \n",
      "marvels, and a flourishing of arts. \n",
      "Cultural Impact: \n",
      "Islamic scholars, poets, and artists contributed to the rich heritage, while Persian and local \n",
      "languages merged to form Urdu.\n"
     ]
    }
   ],
   "source": [
    "print(page[1].page_content)"
   ]
  },
  {
   "cell_type": "code",
   "execution_count": 11,
   "metadata": {},
   "outputs": [
    {
     "name": "stdout",
     "output_type": "stream",
     "text": [
      "Pakistan Post-Independence \n",
      "Since its creation, Pakistan has undergone significant political, economic, and social \n",
      "transformations. The country has faced numerous challenges but continues to progress as a \n",
      "sovereign state. \n",
      "Major Phases: \n",
      "1. 1947–1958: Early struggles with governance, the adoption of the first constitution in \n",
      "1956, and issues with East Pakistan. \n",
      "2. 1971: The separation of East Pakistan, now Bangladesh. \n",
      "3. 1973 Constitution: Established Pakistan as a federal parliamentary republic. \n",
      "Development Highlights: \n",
      " Emergence as a nuclear power in 1998. \n",
      " Growth in infrastructure and technology sectors. \n",
      " Challenges include political instability, regional conflicts, and economic crises. \n",
      "Future Prospects: \n",
      "Pakistan continues to strive for stability and development while preserving its rich history \n",
      "and culture.\n"
     ]
    }
   ],
   "source": [
    "print(page[4].page_content)"
   ]
  },
  {
   "cell_type": "code",
   "execution_count": null,
   "metadata": {},
   "outputs": [],
   "source": []
  }
 ],
 "metadata": {
  "kernelspec": {
   "display_name": "rag",
   "language": "python",
   "name": "python3"
  },
  "language_info": {
   "codemirror_mode": {
    "name": "ipython",
    "version": 3
   },
   "file_extension": ".py",
   "mimetype": "text/x-python",
   "name": "python",
   "nbconvert_exporter": "python",
   "pygments_lexer": "ipython3",
   "version": "3.12.7"
  }
 },
 "nbformat": 4,
 "nbformat_minor": 2
}
